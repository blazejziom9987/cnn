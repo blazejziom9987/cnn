{
 "cells": [
  {
   "cell_type": "code",
   "execution_count": 10,
   "id": "correct-warning",
   "metadata": {},
   "outputs": [
    {
     "name": "stderr",
     "output_type": "stream",
     "text": [
      "Cloning into 'yolov5'...\n"
     ]
    }
   ],
   "source": [
    "!git clone https://github.com/ultralytics/yolov5.git"
   ]
  },
  {
   "cell_type": "code",
   "execution_count": 11,
   "id": "italian-manufacturer",
   "metadata": {},
   "outputs": [
    {
     "name": "stdout",
     "output_type": "stream",
     "text": [
      "C:\\Users\\blazejziom9987\\yolov5\n"
     ]
    }
   ],
   "source": [
    "%cd yolov5/"
   ]
  },
  {
   "cell_type": "code",
   "execution_count": 12,
   "id": "specialized-balloon",
   "metadata": {},
   "outputs": [
    {
     "name": "stdout",
     "output_type": "stream",
     "text": [
      "^C\n"
     ]
    }
   ],
   "source": [
    "!pip install -r requirements.txt"
   ]
  },
  {
   "cell_type": "code",
   "execution_count": null,
   "id": "brazilian-option",
   "metadata": {},
   "outputs": [],
   "source": [
    "!/content/yolov5/weights/download_weights.sh"
   ]
  },
  {
   "cell_type": "code",
   "execution_count": null,
   "id": "military-possession",
   "metadata": {},
   "outputs": [],
   "source": [
    "!python train.py --img 416 --batch 8 --epochs 50 --data coco128.yaml --weights yolov5s.pt --nosave --cache"
   ]
  },
  {
   "cell_type": "code",
   "execution_count": null,
   "id": "polished-allocation",
   "metadata": {},
   "outputs": [],
   "source": [
    "%load_ext tensorboard\n",
    "%tensorboard --logdir runs/train"
   ]
  },
  {
   "cell_type": "code",
   "execution_count": null,
   "id": "honest-florida",
   "metadata": {},
   "outputs": [],
   "source": [
    "!python test.py --weights /content/yolov5/runs/train/exp2/weights/best.pt --data coco128.yaml --img 416"
   ]
  },
  {
   "cell_type": "code",
   "execution_count": null,
   "id": "subsequent-opening",
   "metadata": {},
   "outputs": [],
   "source": [
    "!python detect.py --source /content/test/images --weights /content/yolov5/runs/train/exp2/weights/best.pt --img 416 --save-txt --save-conf"
   ]
  },
  {
   "cell_type": "code",
   "execution_count": null,
   "id": "nervous-procedure",
   "metadata": {},
   "outputs": [],
   "source": [
    "!python train.py --weights /content/yolov5/runs/train/exp2/weights/last.pt --epochs 100 --img 416"
   ]
  },
  {
   "cell_type": "code",
   "execution_count": null,
   "id": "fourth-collins",
   "metadata": {},
   "outputs": [],
   "source": []
  },
  {
   "cell_type": "code",
   "execution_count": null,
   "id": "imposed-relay",
   "metadata": {},
   "outputs": [],
   "source": []
  }
 ],
 "metadata": {
  "kernelspec": {
   "display_name": "Python 3",
   "language": "python",
   "name": "python3"
  },
  "language_info": {
   "codemirror_mode": {
    "name": "ipython",
    "version": 3
   },
   "file_extension": ".py",
   "mimetype": "text/x-python",
   "name": "python",
   "nbconvert_exporter": "python",
   "pygments_lexer": "ipython3",
   "version": "3.8.8"
  }
 },
 "nbformat": 4,
 "nbformat_minor": 5
}
